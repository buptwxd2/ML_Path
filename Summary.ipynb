{
 "cells": [
  {
   "cell_type": "markdown",
   "metadata": {},
   "source": [
    "# Summary\n",
    "\n",
    "1. Tensor vs Matrix\n",
    "Matrix一定是二维的，而Tesnor被认为是一个广义矩阵Matrix\n",
    "\n",
    "2. Linear Regression vs Logistical Regression  \n",
    "    1. Linear Regression是真的回归问题，输出y是一个连续值\n",
    "    2. 而Logistical Regression其实是一个分类问题，参考Andrew关于logistical regression的介绍，而之所以名字中带有regression是由于历史原因，所以逻辑回归虽然名字中有回归二字，但其实质是分类问题\n",
    "\n",
    " 3. Taylor Series  \n",
    " From wiki, the Taylor Series of a real or complex-valued function f(x) that is infinitely differentiable at a real or complex number a is the power series\n",
    "$ f(a) + \\frac{{f}'(a)}{1!}(x-a) + \\frac{{f}''(a)}{2!}(x-a)^{2} + \\frac{{f}'''(a)}{3!}(x-a)^{3} + ... $\n",
    "which can be written in the more contact sigma notation as\n",
    "$ \\sum_{n=0}^{\\infty}\\frac{f^{n}(a)}{n!}(x-a)^{n} $\n",
    "\n",
    "4.# Markdown Example\n",
    "\n",
    "##  Insert Latex Formula\n",
    "\n",
    "[Online Latex Edition](https://www.codecogs.com/eqnedit.php)\n",
    "\n",
    "$E = m^{2}$\n"
   ]
  },
  {
   "cell_type": "code",
   "execution_count": null,
   "metadata": {},
   "outputs": [],
   "source": []
  }
 ],
 "metadata": {
  "kernelspec": {
   "display_name": "Python 3",
   "language": "python",
   "name": "python3"
  },
  "language_info": {
   "codemirror_mode": {
    "name": "ipython",
    "version": 3
   },
   "file_extension": ".py",
   "mimetype": "text/x-python",
   "name": "python",
   "nbconvert_exporter": "python",
   "pygments_lexer": "ipython3",
   "version": "3.6.2"
  }
 },
 "nbformat": 4,
 "nbformat_minor": 2
}
